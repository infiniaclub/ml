{
 "cells": [
  {
   "cell_type": "code",
   "execution_count": 2,
   "id": "617fa3d8",
   "metadata": {},
   "outputs": [
    {
     "ename": "NameError",
     "evalue": "name 'slope' is not defined",
     "output_type": "error",
     "traceback": [
      "\u001b[1;31m---------------------------------------------------------------------------\u001b[0m",
      "\u001b[1;31mNameError\u001b[0m                                 Traceback (most recent call last)",
      "Cell \u001b[1;32mIn[2], line 12\u001b[0m\n\u001b[0;32m      8\u001b[0m \u001b[38;5;28;01mdef\u001b[39;00m \u001b[38;5;21mfun\u001b[39m(x):\n\u001b[0;32m      9\u001b[0m     \u001b[38;5;28;01mreturn\u001b[39;00m slope\u001b[38;5;241m*\u001b[39mx\u001b[38;5;241m+\u001b[39mintercept\n\u001b[1;32m---> 12\u001b[0m mymodel\u001b[38;5;241m=\u001b[39m\u001b[38;5;28;43mlist\u001b[39;49m\u001b[43m(\u001b[49m\u001b[43m(\u001b[49m\u001b[38;5;28;43mmap\u001b[39;49m\u001b[43m(\u001b[49m\u001b[43mfun\u001b[49m\u001b[43m,\u001b[49m\u001b[43m \u001b[49m\u001b[43mx\u001b[49m\u001b[43m)\u001b[49m\u001b[43m)\u001b[49m\u001b[43m)\u001b[49m\n\u001b[0;32m     13\u001b[0m \u001b[38;5;28mprint\u001b[39m(mymodel)\n\u001b[0;32m     15\u001b[0m newvalue\u001b[38;5;241m=\u001b[39m[\u001b[38;5;241m5\u001b[39m,\u001b[38;5;241m7\u001b[39m,\u001b[38;5;241m8\u001b[39m]\n",
      "Cell \u001b[1;32mIn[2], line 9\u001b[0m, in \u001b[0;36mfun\u001b[1;34m(x)\u001b[0m\n\u001b[0;32m      8\u001b[0m \u001b[38;5;28;01mdef\u001b[39;00m \u001b[38;5;21mfun\u001b[39m(x):\n\u001b[1;32m----> 9\u001b[0m     \u001b[38;5;28;01mreturn\u001b[39;00m \u001b[43mslope\u001b[49m\u001b[38;5;241m*\u001b[39mx\u001b[38;5;241m+\u001b[39mintercept\n",
      "\u001b[1;31mNameError\u001b[0m: name 'slope' is not defined"
     ]
    }
   ],
   "source": [
    "from scipy import stats\n",
    "import matplotlib.pyplot as plt\n",
    "\n",
    "x= [5,7,8,7,2,17,2,9,4,11,12,9,6]\n",
    "y= [99,86,87,88,111,86,103,87,94,78,77,85,86]\n",
    "stats.linregress(x,y)\n",
    "\n",
    "def fun(x):\n",
    "    return slope*x+intercept\n",
    "    \n",
    "\n",
    "mymodel=list((map(fun, x)))\n",
    "print(mymodel)\n",
    "\n",
    "newvalue=[5,7,8]\n",
    "predict=list(map(fun,newvalue))\n",
    "print(predict)\n",
    "\n",
    "plt.scatter(x,y)\n",
    "plt.plot(x, mymodel)\n",
    "plt.scatter(newvalue,predict,color=\"red\")\n",
    "plt.show()\n"
   ]
  },
  {
   "cell_type": "code",
   "execution_count": 42,
   "id": "fd819475",
   "metadata": {},
   "outputs": [
    {
     "name": "stdout",
     "output_type": "stream",
     "text": [
      "     x    y\n",
      "0    5   99\n",
      "1    7   86\n",
      "2    8   87\n",
      "3    7   88\n",
      "4    2  111\n",
      "5   17   86\n",
      "6    2  103\n",
      "7    9   87\n",
      "8    4   94\n",
      "9   11   78\n",
      "10  12   77\n",
      "11   9   85\n",
      "12   6   86\n",
      "0      5\n",
      "1      7\n",
      "2      8\n",
      "3      7\n",
      "4      2\n",
      "5     17\n",
      "6      2\n",
      "7      9\n",
      "8      4\n",
      "9     11\n",
      "10    12\n",
      "11     9\n",
      "12     6\n",
      "Name: x, dtype: int64\n",
      "0      99\n",
      "1      86\n",
      "2      87\n",
      "3      88\n",
      "4     111\n",
      "5      86\n",
      "6     103\n",
      "7      87\n",
      "8      94\n",
      "9      78\n",
      "10     77\n",
      "11     85\n",
      "12     86\n",
      "Name: y, dtype: int64\n",
      "[94.3495217071376, 90.84694628403237, 89.09565857247976]\n"
     ]
    },
    {
     "data": {
      "text/plain": [
       "<function matplotlib.pyplot.show(close=None, block=None)>"
      ]
     },
     "execution_count": 42,
     "metadata": {},
     "output_type": "execute_result"
    },
    {
     "data": {
      "image/png": "[encoded data removed]",
      "text/plain": [
       "<Figure size 640x480 with 1 Axes>"
      ]
     },
     "metadata": {},
     "output_type": "display_data"
    }
   ],
   "source": [
    "import pandas as pd\n",
    "from scipy import stats\n",
    "import matplotlib.pyplot as plt\n",
    "\n",
    "# Read data from CSV file\n",
    "df = pd.read_csv(\"C:/Users/shriv/Downloads/lin.csv\")\n",
    "print(df)\n",
    "\n",
    "x=df[\"x\"]\n",
    "y=df[\"y\"]\n",
    "\n",
    "print(x)\n",
    "print(y)\n",
    "\n",
    "stats.linregress(x,y)\n",
    "\n",
    "def fun(x):\n",
    "    return slope*x+intercept\n",
    "\n",
    "model=list((map(fun,x)))\n",
    "\n",
    "newvalue=[5,7,8]\n",
    "predict=list((map(fun,newvalue)))\n",
    "print(predict)\n",
    "plt.scatter(x,y)\n",
    "plt.plot(x,model)\n",
    "\n",
    "plt.scatter(newvalue,predict, color=\"red\")\n",
    "\n",
    "plt.show"
   ]
  },
  {
   "cell_type": "code",
   "execution_count": null,
   "id": "dd523fc6",
   "metadata": {},
   "outputs": [],
   "source": []
  },
  {
   "cell_type": "code",
   "execution_count": null,
   "id": "f79d3e2c",
   "metadata": {},
   "outputs": [],
   "source": []
  }
 ],
 "metadata": {
  "kernelspec": {
   "display_name": "Python 3 (ipykernel)",
   "language": "python",
   "name": "python3"
  },
  "language_info": {
   "codemirror_mode": {
    "name": "ipython",
    "version": 3
   },
   "file_extension": ".py",
   "mimetype": "text/x-python",
   "name": "python",
   "nbconvert_exporter": "python",
   "pygments_lexer": "ipython3",
   "version": "3.10.0"
  }
 },
 "nbformat": 4,
 "nbformat_minor": 5
}
