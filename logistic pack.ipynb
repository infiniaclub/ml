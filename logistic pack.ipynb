{
 "cells": [
  {
   "cell_type": "code",
   "execution_count": null,
   "id": "c7ca4ea7-8859-4d0e-800e-e6a9e045436e",
   "metadata": {},
   "outputs": [],
   "source": []
  },
  {
   "cell_type": "code",
   "execution_count": 1,
   "id": "747b5e66-b80b-41b8-a739-f46937a69da7",
   "metadata": {},
   "outputs": [
    {
     "name": "stdout",
     "output_type": "stream",
     "text": [
      "[3]\n"
     ]
    }
   ],
   "source": [
    "from sklearn.linear_model import LogisticRegression\n",
    "import numpy as np\n",
    "\n",
    "x=np.array([200,212,213,250,300,350,311,325]).reshape(-1,1)\n",
    "y=np.array([2,2,2,2,3,3,3,3])\n",
    "\n",
    "logress=LogisticRegression()\n",
    "logress.fit(x,y)\n",
    "a=logress.predict(np.array([280]).reshape(-1,1))\n",
    "print(a)"
   ]
  },
  {
   "cell_type": "code",
   "execution_count": 23,
   "id": "08fab838-aa30-48de-b131-9d7b7239e850",
   "metadata": {},
   "outputs": [
    {
     "name": "stdout",
     "output_type": "stream",
     "text": [
      "Accuracy for Testing Set: 46.67%\n",
      "\n",
      "\n",
      " Output Prediction:\n",
      "\n",
      "     preg  glc  bp  skin  insulin   bmi    dpf  age  label  predicted_label\n",
      "0      6  148  72    35        0  33.6  0.627   50      1                0\n",
      "17     7  107  74     0        0  29.6  0.254   31      1                0\n",
      "15     7  100   0     0        0  30.0  0.484   32      1                0\n",
      "1      1   85  66    29        0  26.6  0.351   31      0                0\n",
      "8      2  197  70    45      543  30.5  0.158   53      1                1\n",
      "5      5  116  74     0        0  25.6  0.201   30      0                0\n",
      "11    10  168  74     0        0  38.0  0.537   34      1                0\n",
      "3      1   89  66    23       94  28.1  0.167   21      0                1\n",
      "18     1  103  30    38       83  43.3  0.183   33      0                1\n",
      "16     0  118  84    47      230  45.8  0.551   31      1                1\n",
      "13     1  189  60    23      846  30.1  0.398   59      1                1\n",
      "2      8  183  64     0        0  23.3  0.672   32      1                0\n",
      "9      8  125  96     0        0   0.0  0.232   54      1                0\n",
      "19     1  115  70    30       96  34.6  0.529   32      1                1\n",
      "4      0  137  40    35      168  43.1  2.288   33      1                1\n"
     ]
    }
   ],
   "source": [
    "import numpy as np\n",
    "import pandas as pd\n",
    "from sklearn.model_selection import train_test_split\n",
    "from sklearn.linear_model import LogisticRegression\n",
    "df = pd.read_csv(\"C:/Users/shriv/Downloads/diabetes.csv\")\n",
    "df = df.head(20)\n",
    "\n",
    "feature_cols = ['preg', 'glc', 'bp', 'skin', 'insulin', 'bmi', 'dpf', 'age']\n",
    "X = df[feature_cols]\n",
    "y = df['label']\n",
    "\n",
    "X_train, X_test, y_train, y_test = train_test_split(X, y, test_size=0.75)\n",
    "\n",
    "logreg = LogisticRegression()\n",
    "\n",
    "logreg.fit(X_train, y_train)\n",
    "\n",
    "predictions = logreg.predict(X_test)\n",
    "\n",
    "accuracy = logreg.score(X_test, y_test)\n",
    "print(f\"Accuracy for Testing Set: {accuracy * 100:.2f}%\")\n",
    "\n",
    "# Display the original features and the corresponding predictions\n",
    "df_test = pd.DataFrame(X_test)\n",
    "df_test['label'] = y_test\n",
    "df_test['predicted_label'] = predictions\n",
    "print(\"\\n\\n Output Prediction:\\n\\n\", df_test)\n"
   ]
  },
  {
   "cell_type": "code",
   "execution_count": 33,
   "id": "8942e14e-2c9f-471e-9af7-129f48434638",
   "metadata": {},
   "outputs": [
    {
     "name": "stdout",
     "output_type": "stream",
     "text": [
      "76.73611111111111 %\n",
      "[1]\n"
     ]
    },
    {
     "name": "stderr",
     "output_type": "stream",
     "text": [
      "C:\\Users\\shriv\\AppData\\Local\\Programs\\Python\\Python310\\lib\\site-packages\\sklearn\\linear_model\\_logistic.py:460: ConvergenceWarning: lbfgs failed to converge (status=1):\n",
      "STOP: TOTAL NO. of ITERATIONS REACHED LIMIT.\n",
      "\n",
      "Increase the number of iterations (max_iter) or scale the data as shown in:\n",
      "    https://scikit-learn.org/stable/modules/preprocessing.html\n",
      "Please also refer to the documentation for alternative solver options:\n",
      "    https://scikit-learn.org/stable/modules/linear_model.html#logistic-regression\n",
      "  n_iter_i = _check_optimize_result(\n",
      "C:\\Users\\shriv\\AppData\\Local\\Programs\\Python\\Python310\\lib\\site-packages\\sklearn\\base.py:465: UserWarning: X does not have valid feature names, but LogisticRegression was fitted with feature names\n",
      "  warnings.warn(\n"
     ]
    }
   ],
   "source": [
    "import pandas as pd\n",
    "from sklearn.linear_model import LogisticRegression\n",
    "from sklearn.model_selection import train_test_split\n",
    "\n",
    "df=pd.read_csv(\"C:\\\\Users\\\\shriv\\\\Downloads\\\\diabetes.csv\")\n",
    "\n",
    "feat=[\"preg\",\"glc\",\"bp\",\"skin\",\"insulin\",\"bmi\",\"dpf\",\"age\"]\n",
    "\n",
    "x=df[feat]\n",
    "y=df['label']\n",
    "\n",
    "x_train,x_test,y_train,y_test=train_test_split(x,y,test_size=0.75)\n",
    "\n",
    "logress=LogisticRegression()\n",
    "logress.fit(x_train,y_train)\n",
    "a=logress.predict(x_test)\n",
    "\n",
    "accuracy=logress.score(x_test,y_test)\n",
    "print(accuracy*100,\"%\")\n",
    "\n",
    "newarray=np.array([(6,148,72,35,0,33.6,0.627,50)])\n",
    "b=logress.predict(newarray)\n",
    "print(b)\n",
    "\n",
    "\n"
   ]
  },
  {
   "cell_type": "code",
   "execution_count": 15,
   "id": "9e40b30d-ecc3-4ee5-86b3-26c21f8a40b5",
   "metadata": {},
   "outputs": [
    {
     "name": "stdout",
     "output_type": "stream",
     "text": [
      "      x  y\n",
      "0   100  1\n",
      "1   120  1\n",
      "2   120  1\n",
      "3   130  1\n",
      "4   200  1\n",
      "5   230  1\n",
      "6   230  1\n",
      "7   240  1\n",
      "8   400  2\n",
      "9   400  2\n",
      "10  415  2\n",
      "11  415  2\n",
      "[1]\n"
     ]
    }
   ],
   "source": [
    "from sklearn.linear_model import LogisticRegression\n",
    "import numpy as np \n",
    "import pandas as pd\n",
    "\n",
    "data=pd.read_csv(\"C:\\\\Users\\\\shriv\\\\Downloads\\\\db.csv\")\n",
    "print(data)\n",
    "\n",
    "x=data[\"x\"].values.reshape(-1,1)\n",
    "y=data[\"y\"]\n",
    "\n",
    "\n",
    "logress=LogisticRegression()\n",
    "logress.fit(x,y)\n",
    "a=logress.predict(np.array([222]).reshape(-1,1))\n",
    "print(a)\n",
    "\n",
    "\n"
   ]
  },
  {
   "cell_type": "code",
   "execution_count": null,
   "id": "e115dc86-5257-4e3d-b61d-80427c3f194e",
   "metadata": {},
   "outputs": [],
   "source": []
  },
  {
   "cell_type": "code",
   "execution_count": null,
   "id": "82f0b786-3a3a-4e30-b759-fedd9dcc374c",
   "metadata": {},
   "outputs": [],
   "source": []
  }
 ],
 "metadata": {
  "kernelspec": {
   "display_name": "Python 3 (ipykernel)",
   "language": "python",
   "name": "python3"
  },
  "language_info": {
   "codemirror_mode": {
    "name": "ipython",
    "version": 3
   },
   "file_extension": ".py",
   "mimetype": "text/x-python",
   "name": "python",
   "nbconvert_exporter": "python",
   "pygments_lexer": "ipython3",
   "version": "3.10.0"
  }
 },
 "nbformat": 4,
 "nbformat_minor": 5
}
